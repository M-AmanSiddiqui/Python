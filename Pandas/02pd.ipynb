{
 "cells": [
  {
   "cell_type": "code",
   "execution_count": 1,
   "id": "72a8c4fb",
   "metadata": {},
   "outputs": [],
   "source": [
    "import numpy as np\n",
    "import pandas as pd"
   ]
  },
  {
   "cell_type": "code",
   "execution_count": 2,
   "id": "7d270728",
   "metadata": {},
   "outputs": [
    {
     "data": {
      "text/plain": [
       "0      1\n",
       "1      2\n",
       "2      3\n",
       "3      4\n",
       "4      5\n",
       "5      6\n",
       "6      7\n",
       "7      8\n",
       "8      9\n",
       "9     10\n",
       "10    11\n",
       "11    12\n",
       "12    13\n",
       "13    14\n",
       "14    15\n",
       "15    16\n",
       "16    17\n",
       "17    18\n",
       "18    19\n",
       "dtype: int64"
      ]
     },
     "execution_count": 2,
     "metadata": {},
     "output_type": "execute_result"
    }
   ],
   "source": [
    "no_series = pd.Series(np.arange(1,20))\n",
    "no_series"
   ]
  },
  {
   "cell_type": "code",
   "execution_count": 3,
   "id": "6b5c68e7",
   "metadata": {},
   "outputs": [
    {
     "data": {
      "text/plain": [
       "4      5\n",
       "9     10\n",
       "14    15\n",
       "dtype: int64"
      ]
     },
     "execution_count": 3,
     "metadata": {},
     "output_type": "execute_result"
    }
   ],
   "source": [
    "# Masking\n",
    "# no_series % 5 == 0\n",
    "no_series[no_series % 5 == 0]"
   ]
  },
  {
   "cell_type": "code",
   "execution_count": 4,
   "id": "d011bf43",
   "metadata": {},
   "outputs": [
    {
     "data": {
      "text/plain": [
       "5      6\n",
       "11    12\n",
       "17    18\n",
       "dtype: int64"
      ]
     },
     "execution_count": 4,
     "metadata": {},
     "output_type": "execute_result"
    }
   ],
   "source": [
    "no_series[(no_series % 3 == 0) & (no_series % 2 == 0 )]"
   ]
  },
  {
   "cell_type": "code",
   "execution_count": 5,
   "id": "28e08977",
   "metadata": {},
   "outputs": [
    {
     "name": "stdout",
     "output_type": "stream",
     "text": [
      "0      Karachi\n",
      "1       Lahore\n",
      "2    Islamabad\n",
      "3        Murre\n",
      "4       Quetta\n",
      "dtype: object\n"
     ]
    }
   ],
   "source": [
    "cities = pd.Series(['Karachi', 'Lahore', 'Islamabad', 'Murre', 'Quetta'])\n",
    "print(cities)"
   ]
  },
  {
   "cell_type": "code",
   "execution_count": 6,
   "id": "934ef93d",
   "metadata": {},
   "outputs": [
    {
     "data": {
      "text/plain": [
       "1       Lahore\n",
       "2    Islamabad\n",
       "4       Quetta\n",
       "dtype: object"
      ]
     },
     "execution_count": 6,
     "metadata": {},
     "output_type": "execute_result"
    }
   ],
   "source": [
    "# cities[cities.str.len() % 3 == 0] valid method\n",
    "# cities[lambda kuchbhi : kuchbhi.len() % 3 == 0 ]\n",
    "cities[cities.apply(lambda kuchbhi : len(kuchbhi) % 3 == 0)]"
   ]
  },
  {
   "cell_type": "code",
   "execution_count": 8,
   "id": "cf28b5e2",
   "metadata": {},
   "outputs": [
    {
     "data": {
      "text/plain": [
       "0     Mango\n",
       "1    Orange\n",
       "2      Kiwi\n",
       "3    Grapes\n",
       "4     Apple\n",
       "5     Peach\n",
       "dtype: object"
      ]
     },
     "execution_count": 8,
     "metadata": {},
     "output_type": "execute_result"
    }
   ],
   "source": [
    "fruits = pd.Series([\n",
    "    '  Mango  ', \n",
    "    '  Orange  ', \n",
    "    '  Kiwi  ', \n",
    "    '  Grapes  ',\n",
    "    '  Apple  ',\n",
    "    '  Peach  ',\n",
    "    ])\n",
    "fruits.str.strip()"
   ]
  },
  {
   "cell_type": "code",
   "execution_count": 11,
   "id": "79861a69",
   "metadata": {},
   "outputs": [
    {
     "data": {
      "text/plain": [
       "0    5\n",
       "1    6\n",
       "2    4\n",
       "3    6\n",
       "4    5\n",
       "5    5\n",
       "dtype: int64"
      ]
     },
     "execution_count": 11,
     "metadata": {},
     "output_type": "execute_result"
    }
   ],
   "source": [
    "fruits.apply(lambda x: len(x))\n",
    "fruits.apply(len)"
   ]
  },
  {
   "cell_type": "code",
   "execution_count": 14,
   "id": "bac0e771",
   "metadata": {},
   "outputs": [
    {
     "data": {
      "text/plain": [
       "0    Mango\n",
       "4    Apple\n",
       "5    Peach\n",
       "dtype: object"
      ]
     },
     "execution_count": 14,
     "metadata": {},
     "output_type": "execute_result"
    }
   ],
   "source": [
    "fruits[fruits.apply(lambda x: (len(x) % 5 == 0) or (len(x) % 2 != 0))]"
   ]
  },
  {
   "cell_type": "code",
   "execution_count": 15,
   "id": "5f608b9b",
   "metadata": {},
   "outputs": [
    {
     "data": {
      "text/plain": [
       "0     Mango\n",
       "1    Orange\n",
       "2      Kiwi\n",
       "3    Grapes\n",
       "4     Apple\n",
       "5     Peach\n",
       "Name: Fruits, dtype: object"
      ]
     },
     "execution_count": 15,
     "metadata": {},
     "output_type": "execute_result"
    }
   ],
   "source": [
    "fruits.name = 'Fruits'\n",
    "fruits"
   ]
  },
  {
   "cell_type": "code",
   "execution_count": 16,
   "id": "82127e31",
   "metadata": {},
   "outputs": [],
   "source": [
    "data = {\n",
    "    'Students': ['Ali', 'Hassam', 'Kashif', 'Waseem', 'Sattar'],\n",
    "    'Marks': np.arange(60,65),\n",
    "    'Language': ['Python', 'Javascript', 'Typescript', 'C', 'C sharp'],\n",
    "}\n",
    "df = pd.DataFrame(data)"
   ]
  },
  {
   "cell_type": "code",
   "execution_count": 17,
   "id": "0bd5e512",
   "metadata": {},
   "outputs": [],
   "source": [
    "df.index = ['Karachi', 'Lahore', 'Quetta', 'Murre', 'Naran']"
   ]
  },
  {
   "cell_type": "code",
   "execution_count": 18,
   "id": "c55398d5",
   "metadata": {},
   "outputs": [
    {
     "data": {
      "text/html": [
       "<div>\n",
       "<style scoped>\n",
       "    .dataframe tbody tr th:only-of-type {\n",
       "        vertical-align: middle;\n",
       "    }\n",
       "\n",
       "    .dataframe tbody tr th {\n",
       "        vertical-align: top;\n",
       "    }\n",
       "\n",
       "    .dataframe thead th {\n",
       "        text-align: right;\n",
       "    }\n",
       "</style>\n",
       "<table border=\"1\" class=\"dataframe\">\n",
       "  <thead>\n",
       "    <tr style=\"text-align: right;\">\n",
       "      <th></th>\n",
       "      <th>Students</th>\n",
       "      <th>Marks</th>\n",
       "      <th>Language</th>\n",
       "    </tr>\n",
       "  </thead>\n",
       "  <tbody>\n",
       "    <tr>\n",
       "      <th>Karachi</th>\n",
       "      <td>Ali</td>\n",
       "      <td>60</td>\n",
       "      <td>Python</td>\n",
       "    </tr>\n",
       "    <tr>\n",
       "      <th>Lahore</th>\n",
       "      <td>Hassam</td>\n",
       "      <td>61</td>\n",
       "      <td>Javascript</td>\n",
       "    </tr>\n",
       "    <tr>\n",
       "      <th>Quetta</th>\n",
       "      <td>Kashif</td>\n",
       "      <td>62</td>\n",
       "      <td>Typescript</td>\n",
       "    </tr>\n",
       "    <tr>\n",
       "      <th>Murre</th>\n",
       "      <td>Waseem</td>\n",
       "      <td>63</td>\n",
       "      <td>C</td>\n",
       "    </tr>\n",
       "    <tr>\n",
       "      <th>Naran</th>\n",
       "      <td>Sattar</td>\n",
       "      <td>64</td>\n",
       "      <td>C sharp</td>\n",
       "    </tr>\n",
       "  </tbody>\n",
       "</table>\n",
       "</div>"
      ],
      "text/plain": [
       "        Students  Marks    Language\n",
       "Karachi      Ali     60      Python\n",
       "Lahore    Hassam     61  Javascript\n",
       "Quetta    Kashif     62  Typescript\n",
       "Murre     Waseem     63           C\n",
       "Naran     Sattar     64     C sharp"
      ]
     },
     "execution_count": 18,
     "metadata": {},
     "output_type": "execute_result"
    }
   ],
   "source": [
    "df"
   ]
  },
  {
   "cell_type": "code",
   "execution_count": 19,
   "id": "ca204712",
   "metadata": {},
   "outputs": [],
   "source": [
    "test_data = {\n",
    "    'Students': ['Ali', 'Hassam', 'Kashif', 'Waseem', 'Sattar'],\n",
    "    # 'Marks': np.arange(60,65),\n",
    "    # 'Language': ['Python', 'Javascript', 'Typescript', 'C', 'C sharp'],\n",
    "}"
   ]
  },
  {
   "cell_type": "code",
   "execution_count": 20,
   "id": "4dfb6400",
   "metadata": {},
   "outputs": [
    {
     "data": {
      "text/html": [
       "<div>\n",
       "<style scoped>\n",
       "    .dataframe tbody tr th:only-of-type {\n",
       "        vertical-align: middle;\n",
       "    }\n",
       "\n",
       "    .dataframe tbody tr th {\n",
       "        vertical-align: top;\n",
       "    }\n",
       "\n",
       "    .dataframe thead th {\n",
       "        text-align: right;\n",
       "    }\n",
       "</style>\n",
       "<table border=\"1\" class=\"dataframe\">\n",
       "  <thead>\n",
       "    <tr style=\"text-align: right;\">\n",
       "      <th></th>\n",
       "      <th>Students</th>\n",
       "    </tr>\n",
       "  </thead>\n",
       "  <tbody>\n",
       "    <tr>\n",
       "      <th>0</th>\n",
       "      <td>Ali</td>\n",
       "    </tr>\n",
       "    <tr>\n",
       "      <th>1</th>\n",
       "      <td>Hassam</td>\n",
       "    </tr>\n",
       "    <tr>\n",
       "      <th>2</th>\n",
       "      <td>Kashif</td>\n",
       "    </tr>\n",
       "    <tr>\n",
       "      <th>3</th>\n",
       "      <td>Waseem</td>\n",
       "    </tr>\n",
       "    <tr>\n",
       "      <th>4</th>\n",
       "      <td>Sattar</td>\n",
       "    </tr>\n",
       "  </tbody>\n",
       "</table>\n",
       "</div>"
      ],
      "text/plain": [
       "  Students\n",
       "0      Ali\n",
       "1   Hassam\n",
       "2   Kashif\n",
       "3   Waseem\n",
       "4   Sattar"
      ]
     },
     "execution_count": 20,
     "metadata": {},
     "output_type": "execute_result"
    }
   ],
   "source": [
    "pd.DataFrame(test_data)"
   ]
  },
  {
   "cell_type": "code",
   "execution_count": null,
   "id": "7ee050e1",
   "metadata": {},
   "outputs": [],
   "source": []
  }
 ],
 "metadata": {
  "kernelspec": {
   "display_name": ".venv",
   "language": "python",
   "name": "python3"
  },
  "language_info": {
   "codemirror_mode": {
    "name": "ipython",
    "version": 3
   },
   "file_extension": ".py",
   "mimetype": "text/x-python",
   "name": "python",
   "nbconvert_exporter": "python",
   "pygments_lexer": "ipython3",
   "version": "3.13.5"
  }
 },
 "nbformat": 4,
 "nbformat_minor": 5
}

{
 "cells": [
  {
   "cell_type": "code",
   "execution_count": 5,
   "id": "457ca2d3",
   "metadata": {},
   "outputs": [],
   "source": [
    "import pandas as pd\n",
    "\n"
   ]
  },
  {
   "cell_type": "code",
   "execution_count": 7,
   "id": "25af29b7",
   "metadata": {},
   "outputs": [
    {
     "name": "stdout",
     "output_type": "stream",
     "text": [
      "<class 'pandas.core.series.Series'>\n",
      "<class 'pandas.core.series.Series'>\n",
      "0     apple\n",
      "1    banana\n",
      "2     mango\n",
      "3      kiwi\n",
      "4       fig\n",
      "dtype: object\n",
      "0    1\n",
      "1    2\n",
      "2    3\n",
      "3    4\n",
      "4    5\n",
      "dtype: int64\n"
     ]
    }
   ],
   "source": [
    "series = pd.Series([1,2,3,4,5])\n",
    "fruits = pd.Series(['apple','banana','mango','kiwi','fig'])\n",
    "print(type(series))\n",
    "print(type(fruits))\n",
    "print(fruits)\n",
    "print(series)\n",
    "\n"
   ]
  },
  {
   "cell_type": "code",
   "execution_count": 8,
   "id": "26555567",
   "metadata": {},
   "outputs": [
    {
     "name": "stdout",
     "output_type": "stream",
     "text": [
      "5\n",
      "(5,)\n",
      "RangeIndex(start=0, stop=5, step=1)\n"
     ]
    }
   ],
   "source": [
    "print(fruits.size)\n",
    "print(fruits.shape)\n",
    "print(fruits.index)"
   ]
  },
  {
   "cell_type": "code",
   "execution_count": 13,
   "id": "bfc32e22",
   "metadata": {},
   "outputs": [
    {
     "name": "stdout",
     "output_type": "stream",
     "text": [
      "0    10\n",
      "1    20\n",
      "2    30\n",
      "3    40\n",
      "4    50\n",
      "dtype: int64\n",
      "<class 'pandas.core.series.Series'>\n"
     ]
    },
    {
     "data": {
      "text/plain": [
       "array([10, 20, 30, 40, 50])"
      ]
     },
     "execution_count": 13,
     "metadata": {},
     "output_type": "execute_result"
    }
   ],
   "source": [
    "s1 = pd.Series([10,20,30,40,50])\n",
    "print(s1)\n",
    "print(type(s1))\n",
    "s1.size\n",
    "s1.shape\n",
    "s1.index\n",
    "s1.values"
   ]
  },
  {
   "cell_type": "code",
   "execution_count": 20,
   "id": "224b60d5",
   "metadata": {},
   "outputs": [
    {
     "name": "stdout",
     "output_type": "stream",
     "text": [
      "Ten       10\n",
      "Twenty    20\n",
      "Thirty    30\n",
      "Fourty    40\n",
      "Fifty     50\n",
      "dtype: int64\n"
     ]
    }
   ],
   "source": [
    "# Change index at the time of creation\n",
    "\n",
    "s1 = pd.Series([10,20,30,40,50], index=[\"Ten\",\"Twenty\",\"Thirty\",\"Fourty\",\"Fifty\"])\n",
    "print(s1)"
   ]
  },
  {
   "cell_type": "code",
   "execution_count": 26,
   "id": "ba8ad0af",
   "metadata": {},
   "outputs": [
    {
     "data": {
      "text/plain": [
       "Fifty     50\n",
       "Fourty    40\n",
       "Thirty    30\n",
       "Twenty    20\n",
       "Ten       10\n",
       "dtype: int64"
      ]
     },
     "execution_count": 26,
     "metadata": {},
     "output_type": "execute_result"
    }
   ],
   "source": [
    "s1[::-1]"
   ]
  },
  {
   "cell_type": "code",
   "execution_count": 27,
   "id": "261bc729",
   "metadata": {},
   "outputs": [
    {
     "data": {
      "text/plain": [
       "Ten       10\n",
       "Twenty    20\n",
       "Thirty    30\n",
       "Fourty    40\n",
       "dtype: int64"
      ]
     },
     "execution_count": 27,
     "metadata": {},
     "output_type": "execute_result"
    }
   ],
   "source": [
    "s1.iloc[0:4]"
   ]
  },
  {
   "cell_type": "code",
   "execution_count": null,
   "id": "991c6717",
   "metadata": {},
   "outputs": [
    {
     "name": "stdout",
     "output_type": "stream",
     "text": [
      "Ten       10\n",
      "Twenty    20\n",
      "Thirty    30\n",
      "Fourty    40\n",
      "Fifty     50\n",
      "dtype: int64\n",
      "Twenty    20\n",
      "Thirty    30\n",
      "Fourty    40\n",
      "dtype: int64\n",
      "20\n"
     ]
    }
   ],
   "source": [
    "print(s1['Ten': 'Fifty'])\n",
    "print(s1.loc['Twenty': 'Fourty'])\n",
    "\n"
   ]
  },
  {
   "cell_type": "code",
   "execution_count": 34,
   "id": "9c5ee047",
   "metadata": {},
   "outputs": [
    {
     "name": "stdout",
     "output_type": "stream",
     "text": [
      "20\n"
     ]
    }
   ],
   "source": [
    "print(s1.iloc[1])"
   ]
  },
  {
   "cell_type": "code",
   "execution_count": 43,
   "id": "496707df",
   "metadata": {},
   "outputs": [
    {
     "data": {
      "text/plain": [
       "Thirty    30\n",
       "Fourty    40\n",
       "Fifty     50\n",
       "dtype: object"
      ]
     },
     "execution_count": 43,
     "metadata": {},
     "output_type": "execute_result"
    }
   ],
   "source": [
    "s1['Ten'] = 'Meri Pasand ki Value'\n",
    "s1\n",
    "s1[2:5]"
   ]
  },
  {
   "cell_type": "code",
   "execution_count": 44,
   "id": "c3a36c33",
   "metadata": {},
   "outputs": [
    {
     "name": "stdout",
     "output_type": "stream",
     "text": [
      "Before:\n",
      "0    10\n",
      "1    20\n",
      "2    30\n",
      "3    40\n",
      "4    50\n",
      "dtype: int64\n",
      "\n",
      "After set_axis:\n",
      "ali       10\n",
      "kashan    20\n",
      "yaman     30\n",
      "waseem    40\n",
      "sattar    50\n",
      "dtype: int64\n"
     ]
    }
   ],
   "source": [
    "# Original Series\n",
    "series = pd.Series([10, 20, 30, 40, 50])\n",
    "print(\"Before:\")\n",
    "print(series)\n",
    "\n",
    "# Set new index\n",
    "new_index = ['ali','kashan','yaman','waseem','sattar']\n",
    "new_series = series.set_axis(new_index)\n",
    "\n",
    "print(\"\\nAfter set_axis:\")\n",
    "print(new_series)"
   ]
  },
  {
   "cell_type": "code",
   "execution_count": 45,
   "id": "e4b5120c",
   "metadata": {},
   "outputs": [
    {
     "name": "stdout",
     "output_type": "stream",
     "text": [
      "50\n",
      "40\n"
     ]
    }
   ],
   "source": [
    "print(new_series['sattar'])\n",
    "print(new_series['waseem'])"
   ]
  },
  {
   "cell_type": "code",
   "execution_count": 46,
   "id": "2d5380c2",
   "metadata": {},
   "outputs": [
    {
     "data": {
      "text/plain": [
       "kashan    20\n",
       "yaman     30\n",
       "waseem    40\n",
       "dtype: int64"
      ]
     },
     "execution_count": 46,
     "metadata": {},
     "output_type": "execute_result"
    }
   ],
   "source": [
    "new_series['kashan':'waseem']"
   ]
  },
  {
   "cell_type": "code",
   "execution_count": null,
   "id": "ab95418c",
   "metadata": {},
   "outputs": [],
   "source": []
  }
 ],
 "metadata": {
  "kernelspec": {
   "display_name": ".venv",
   "language": "python",
   "name": "python3"
  },
  "language_info": {
   "codemirror_mode": {
    "name": "ipython",
    "version": 3
   },
   "file_extension": ".py",
   "mimetype": "text/x-python",
   "name": "python",
   "nbconvert_exporter": "python",
   "pygments_lexer": "ipython3",
   "version": "3.13.5"
  }
 },
 "nbformat": 4,
 "nbformat_minor": 5
}

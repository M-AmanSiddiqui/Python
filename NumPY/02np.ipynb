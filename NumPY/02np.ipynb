{
 "cells": [
  {
   "cell_type": "markdown",
   "id": "0395859c",
   "metadata": {},
   "source": [
    "Numpy Array and Operation"
   ]
  },
  {
   "cell_type": "code",
   "execution_count": 6,
   "id": "ce4f6b34",
   "metadata": {},
   "outputs": [
    {
     "name": "stdout",
     "output_type": "stream",
     "text": [
      "Basic Slicing: [3 4 5 6 7]\n",
      "With Step: [2 4 6 8]\n",
      "Negative indexing: 8\n"
     ]
    }
   ],
   "source": [
    "import numpy as np\n",
    "\n",
    "arr = np.array([1, 2, 3, 4, 5, 6, 7, 8, 9, 10])\n",
    "print(\"Basic Slicing:\", arr[2:7])\n",
    "print(\"With Step:\", arr[1:8:2])\n",
    "print(\"Negative indexing:\", arr[-3])\n"
   ]
  },
  {
   "cell_type": "code",
   "execution_count": null,
   "id": "61736e4c",
   "metadata": {},
   "outputs": [
    {
     "name": "stdout",
     "output_type": "stream",
     "text": [
      "Specific Element: 6\n",
      "Entire Row: [4 5 6]\n",
      "Entire Row: [1 4 7]\n"
     ]
    }
   ],
   "source": [
    "arr_2d = np.array([[1,2,3],\n",
    "                  [4,5,6],\n",
    "                  [7,8,9]])\n",
    "print(\"Specific Element:\", arr_2d[1,2])\n",
    "print(\"Entire Row:\", arr_2d[1])\n",
    "print(\"Column:\", arr_2d[:, 0])\n"
   ]
  },
  {
   "cell_type": "markdown",
   "id": "d76d8ac2",
   "metadata": {},
   "source": [
    "Sorting\n"
   ]
  },
  {
   "cell_type": "code",
   "execution_count": 15,
   "id": "6c23b470",
   "metadata": {},
   "outputs": [
    {
     "name": "stdout",
     "output_type": "stream",
     "text": [
      "Sorted Array [1 1 2 2 3 3 4 5 6 7 8 9]\n",
      "Sorted 2d array by column [[1 1]\n",
      " [2 2]\n",
      " [3 3]]\n"
     ]
    }
   ],
   "source": [
    "unsorted = np.array([1,1,2,3,2,3,4,5,6,7,8,9])\n",
    "print(\"Sorted Array\" , np.sort(unsorted))\n",
    "\n",
    "arr_2d_unsorted = np.array([[3 , 1],[1, 2],[ 2, 3] ])\n",
    "print(\"Sorted 2d array by column\" , np.sort(arr_2d_unsorted, axis=0))\n"
   ]
  },
  {
   "cell_type": "markdown",
   "id": "f162d515",
   "metadata": {},
   "source": [
    "Filter"
   ]
  },
  {
   "cell_type": "code",
   "execution_count": 16,
   "id": "53a469c6",
   "metadata": {},
   "outputs": [
    {
     "name": "stdout",
     "output_type": "stream",
     "text": [
      "Even Numbers [2 4 6 8]\n"
     ]
    }
   ],
   "source": [
    "number = np.array([1,2,3,4,5,6,7,8,9])\n",
    "even_number = number[number % 2 == 0]\n",
    "print(\"Even Numbers\",even_number)"
   ]
  },
  {
   "cell_type": "markdown",
   "id": "27d1dc68",
   "metadata": {},
   "source": [
    "## Filter with Mask "
   ]
  },
  {
   "cell_type": "code",
   "execution_count": 17,
   "id": "2655cb31",
   "metadata": {},
   "outputs": [
    {
     "name": "stdout",
     "output_type": "stream",
     "text": [
      "Number Greater then 5  [6 7 8 9]\n"
     ]
    }
   ],
   "source": [
    "mask = number > 5\n",
    "print(\"Number Greater then 5 \",number[mask])"
   ]
  },
  {
   "cell_type": "markdown",
   "id": "7de2974d",
   "metadata": {},
   "source": [
    "## Fancy Indexing vs  np.where()\n"
   ]
  },
  {
   "cell_type": "code",
   "execution_count": null,
   "id": "40726927",
   "metadata": {},
   "outputs": [
    {
     "name": "stdout",
     "output_type": "stream",
     "text": [
      "[1 3 5]\n",
      "NP where [6 7 8 9]\n"
     ]
    }
   ],
   "source": [
    "indices = [0 , 2 ,4]\n",
    "print(number[indices])\n",
    "\n",
    "where_result = np.where(number > 5)\n",
    "\n",
    "print(\"NP where\",number[where_result])\n",
    "\n",
    "\n",
    "\n"
   ]
  },
  {
   "cell_type": "code",
   "execution_count": 27,
   "id": "a68138df",
   "metadata": {},
   "outputs": [
    {
     "name": "stdout",
     "output_type": "stream",
     "text": [
      "[ 1  2  3  4  5 12 14 16 18]\n"
     ]
    }
   ],
   "source": [
    "condition_array = np.where(number > 5 , number * 2 , number) \n",
    "print(condition_array)"
   ]
  },
  {
   "cell_type": "markdown",
   "id": "918aa8b7",
   "metadata": {},
   "source": [
    "## Adding and Removing Data\n"
   ]
  },
  {
   "cell_type": "code",
   "execution_count": null,
   "id": "15ffb9fa",
   "metadata": {},
   "outputs": [
    {
     "name": "stdout",
     "output_type": "stream",
     "text": [
      "[1 2 3 4 5 6]\n"
     ]
    }
   ],
   "source": [
    "arr1 = np.array([1, 2, 3])\n",
    "arr2 = np.array([4, 5, 6])\n",
    "combine = np.concatenate((arr1,arr2))\n",
    "print(combine)"
   ]
  },
  {
   "cell_type": "markdown",
   "id": "10e32b56",
   "metadata": {},
   "source": [
    "## Array Compatibilty\n"
   ]
  },
  {
   "cell_type": "code",
   "execution_count": null,
   "id": "8accb94b",
   "metadata": {},
   "outputs": [
    {
     "name": "stdout",
     "output_type": "stream",
     "text": [
      "Compatibility shapes False\n"
     ]
    }
   ],
   "source": [
    "arr1 = np.array([1, 2, 3])\n",
    "arr2 = np.array([4, 5, 6])\n",
    "arr3 = np.array([7, 8, 9])\n",
    "print(\"Compatibility shapes\", arr1.shape == arr2.shape)"
   ]
  },
  {
   "cell_type": "code",
   "execution_count": 34,
   "id": "cd99ea5a",
   "metadata": {},
   "outputs": [
    {
     "name": "stdout",
     "output_type": "stream",
     "text": [
      "[[1 2]\n",
      " [3 4]]\n",
      "[[1 2]\n",
      " [3 4]\n",
      " [5 6]]\n",
      "With new column [[1 2 7]\n",
      " [3 4 8]]\n"
     ]
    }
   ],
   "source": [
    "original = np.array([[1,2], [3,4]])\n",
    "new_row = np.array([[5,6]])\n",
    "with_new_row = np.vstack((original,new_row))\n",
    "print(original)\n",
    "print(with_new_row)\n",
    "\n",
    "\n",
    "new_col = np.array([[7], [8]])\n",
    "with_new_col = np.hstack((original,new_col))\n",
    "print(\"With new column\", with_new_col)"
   ]
  },
  {
   "cell_type": "code",
   "execution_count": 36,
   "id": "f0340521",
   "metadata": {},
   "outputs": [
    {
     "name": "stdout",
     "output_type": "stream",
     "text": [
      "Array After Deletion: [1 2 4 5]\n"
     ]
    }
   ],
   "source": [
    "arr = np.array([1,2,3,4,5])\n",
    "deleted = np.delete(arr,2)\n",
    "print(\"Array After Deletion:\" ,deleted)"
   ]
  },
  {
   "cell_type": "code",
   "execution_count": null,
   "id": "663efe6b",
   "metadata": {},
   "outputs": [],
   "source": []
  }
 ],
 "metadata": {
  "kernelspec": {
   "display_name": ".venv",
   "language": "python",
   "name": "python3"
  },
  "language_info": {
   "codemirror_mode": {
    "name": "ipython",
    "version": 3
   },
   "file_extension": ".py",
   "mimetype": "text/x-python",
   "name": "python",
   "nbconvert_exporter": "python",
   "pygments_lexer": "ipython3",
   "version": "3.13.5"
  }
 },
 "nbformat": 4,
 "nbformat_minor": 5
}

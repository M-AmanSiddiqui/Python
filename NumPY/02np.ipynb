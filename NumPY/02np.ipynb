{
 "cells": [
  {
   "cell_type": "markdown",
   "id": "0395859c",
   "metadata": {},
   "source": [
    "Numpy Array and Operation"
   ]
  },
  {
   "cell_type": "code",
   "execution_count": null,
   "id": "497aba34",
   "metadata": {},
   "outputs": [],
   "source": [
    "import numpy  as np"
   ]
  },
  {
   "cell_type": "code",
   "execution_count": null,
   "id": "ce4f6b34",
   "metadata": {},
   "outputs": [],
   "source": [
    "arr = np.array([1, 2, 3, 4, 5, 6, 7, 8, 9, 10])\n",
    "print(\"Basic Slicing \")"
   ]
  }
 ],
 "metadata": {
  "kernelspec": {
   "display_name": ".venv",
   "language": "python",
   "name": "python3"
  },
  "language_info": {
   "name": "python",
   "version": "3.13.5"
  }
 },
 "nbformat": 4,
 "nbformat_minor": 5
}

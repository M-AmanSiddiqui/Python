{
 "cells": [
  {
   "cell_type": "code",
   "execution_count": 3,
   "id": "5b452c7e",
   "metadata": {},
   "outputs": [],
   "source": [
    "import numpy as np\n"
   ]
  },
  {
   "cell_type": "code",
   "execution_count": 5,
   "id": "f74f60b3",
   "metadata": {},
   "outputs": [
    {
     "name": "stdout",
     "output_type": "stream",
     "text": [
      "1D Array [1 2 3 4 5]\n"
     ]
    }
   ],
   "source": [
    "arr_id = np.array([1,2,3,4,5])\n",
    "print(\"1D Array\",arr_id)\n"
   ]
  },
  {
   "cell_type": "markdown",
   "id": "676f6140",
   "metadata": {},
   "source": [
    "List vs numpy array\n"
   ]
  },
  {
   "cell_type": "code",
   "execution_count": 6,
   "id": "0b0da0d2",
   "metadata": {},
   "outputs": [
    {
     "name": "stdout",
     "output_type": "stream",
     "text": [
      "Python list multiplication [1, 2, 3, 1, 2, 3]\n",
      "Python array multiplication [2 4 6]\n"
     ]
    }
   ],
   "source": [
    "py_List = [1,2,3]\n",
    "print(\"Python list multiplication\", py_List * 2)\n",
    "\n",
    "np_List = np.array([1,2,3])\n",
    "print(\"Python array multiplication\", np_List * 2)\n"
   ]
  },
  {
   "cell_type": "code",
   "execution_count": null,
   "id": "b3d253f8",
   "metadata": {},
   "outputs": [],
   "source": []
  }
 ],
 "metadata": {
  "kernelspec": {
   "display_name": ".venv",
   "language": "python",
   "name": "python3"
  },
  "language_info": {
   "codemirror_mode": {
    "name": "ipython",
    "version": 3
   },
   "file_extension": ".py",
   "mimetype": "text/x-python",
   "name": "python",
   "nbconvert_exporter": "python",
   "pygments_lexer": "ipython3",
   "version": "3.13.5"
  }
 },
 "nbformat": 4,
 "nbformat_minor": 5
}

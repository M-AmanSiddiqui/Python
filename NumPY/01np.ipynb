{
 "cells": [
  {
   "cell_type": "code",
   "execution_count": 2,
   "id": "5b452c7e",
   "metadata": {},
   "outputs": [],
   "source": [
    "import numpy as np\n"
   ]
  },
  {
   "cell_type": "code",
   "execution_count": 5,
   "id": "f74f60b3",
   "metadata": {},
   "outputs": [
    {
     "name": "stdout",
     "output_type": "stream",
     "text": [
      "1D Array [1 2 3 4 5]\n"
     ]
    }
   ],
   "source": [
    "arr_id = np.array([1,2,3,4,5])\n",
    "print(\"1D Array\",arr_id)\n"
   ]
  },
  {
   "cell_type": "markdown",
   "id": "676f6140",
   "metadata": {},
   "source": [
    "List vs numpy array\n"
   ]
  },
  {
   "cell_type": "code",
   "execution_count": 3,
   "id": "0b0da0d2",
   "metadata": {},
   "outputs": [
    {
     "name": "stdout",
     "output_type": "stream",
     "text": [
      "Python list multiplication [1, 2, 3, 1, 2, 3]\n",
      "Python array multiplication [2 4 6]\n"
     ]
    }
   ],
   "source": [
    "py_List = [1,2,3]\n",
    "print(\"Python list multiplication\", py_List * 2) \n",
    "\n",
    "np_List = np.array([1,2,3])\n",
    "print(\"Python array multiplication\", np_List * 2)\n"
   ]
  },
  {
   "cell_type": "markdown",
   "id": "b3d253f8",
   "metadata": {},
   "source": [
    "Creating array  from scratch"
   ]
  },
  {
   "cell_type": "code",
   "execution_count": 7,
   "id": "093e3b83",
   "metadata": {},
   "outputs": [
    {
     "name": "stdout",
     "output_type": "stream",
     "text": [
      "Zeros array: \n",
      " [[0. 0. 0. 0.]\n",
      " [0. 0. 0. 0.]\n",
      " [0. 0. 0. 0.]]\n",
      "Ones array: \n",
      " [[1. 1. 1. 1.]\n",
      " [1. 1. 1. 1.]\n",
      " [1. 1. 1. 1.]]\n",
      "full array: \n",
      " [[7 7]\n",
      " [7 7]]\n",
      "random array: \n",
      " [[0.01969093 0.87216851 0.37846883]\n",
      " [0.84245977 0.83822054 0.40489578]]\n",
      "sequence array: \n",
      " [0 1 2 3 4 5 6 7 8 9]\n"
     ]
    }
   ],
   "source": [
    "zeros = np.zeros((3,4))\n",
    "print(\"Zeros array: \\n\",zeros)\n",
    "\n",
    "ones = np.ones((3,4))\n",
    "print(\"Ones array: \\n\",ones)\n",
    "\n",
    "full = np.full((2,2),7)\n",
    "print(\"full array: \\n\",full)\n",
    "\n",
    "\n",
    "random = np.random.random((2,3))\n",
    "print(\"random array: \\n\",random)\n",
    "\n",
    "sequence = np.arange(0,10, 1)\n",
    "print(\"sequence array: \\n\",sequence)\n",
    "\n",
    "\n",
    "\n",
    "\n"
   ]
  },
  {
   "cell_type": "markdown",
   "id": "89cbb3db",
   "metadata": {},
   "source": [
    "Vector Matrix and Tensor"
   ]
  },
  {
   "cell_type": "code",
   "execution_count": null,
   "id": "dfbc0df5",
   "metadata": {},
   "outputs": [
    {
     "name": "stdout",
     "output_type": "stream",
     "text": [
      "Vector: \n",
      " [1 2 3]\n",
      "matrix: \n",
      " [[1 2 3]\n",
      " [4 5 6]]\n",
      "tensor: \n",
      " [[[1 2]\n",
      "  [3 4]]\n",
      "\n",
      " [[5 6]\n",
      "  [7 8]]]\n"
     ]
    }
   ],
   "source": [
    "vector = np.array([1,2,3])\n",
    "print(\"Vector: \\n\",vector)\n",
    "\n",
    "matrix = np.array([[1,2,3],\n",
    "                  [4,5,6]])\n",
    "print(\"matrix: \\n\",matrix)\n",
    "\n",
    "\n",
    "tensor = np.array([[[1,2],[3,4]],\n",
    "                   [[5,6], [7,8]]])\n",
    "print(\"tensor: \\n\",tensor)"
   ]
  },
  {
   "cell_type": "markdown",
   "id": "770ce37f",
   "metadata": {},
   "source": [
    "Array properties"
   ]
  },
  {
   "cell_type": "code",
   "execution_count": 13,
   "id": "b1f2f090",
   "metadata": {},
   "outputs": [
    {
     "name": "stdout",
     "output_type": "stream",
     "text": [
      "Shape  (2, 3)\n",
      "Dimension  2\n",
      "Size 6\n",
      "Data Type  int64\n"
     ]
    }
   ],
   "source": [
    "arr = np.array([[1,2,3],\n",
    "                [4,5,6]])\n",
    "print(\"Shape \", arr.shape)\n",
    "print(\"Dimension \", arr.ndim)\n",
    "print(\"Size\", arr.size)\n",
    "print(\"Data Type \", arr.dtype)\n",
    "\n"
   ]
  },
  {
   "cell_type": "markdown",
   "id": "7be0b832",
   "metadata": {},
   "source": [
    "Array Reshaping"
   ]
  },
  {
   "cell_type": "code",
   "execution_count": 27,
   "id": "82c79af4",
   "metadata": {},
   "outputs": [
    {
     "name": "stdout",
     "output_type": "stream",
     "text": [
      " \n",
      " Original array  [ 0  1  2  3  4  5  6  7  8  9 10 11]\n",
      "\n",
      " Reshaped array  [[ 0  1  2  3]\n",
      " [ 4  5  6  7]\n",
      " [ 8  9 10 11]]\n",
      "\n",
      " Flattened array  [ 0  1  2  3  4  5  6  7  8  9 10 11]\n",
      "\n",
      " raveled array  [ 0  1  2  3  4  5  6  7  8  9 10 11]\n",
      "\n",
      " Transpose Array  [[ 0  4  8]\n",
      " [ 1  5  9]\n",
      " [ 2  6 10]\n",
      " [ 3  7 11]]\n"
     ]
    }
   ],
   "source": [
    "arr = np.arange(12)\n",
    "print(\" \\n Original array \", arr)\n",
    "\n",
    "reshaped = arr.reshape((3, 4))\n",
    "print(\"\\n Reshaped array \", reshaped)\n",
    "\n",
    "\n",
    "flattened = reshaped.flatten()\n",
    "print(\"\\n Flattened array \", flattened)\n",
    "\n",
    "# ravel (returns view, instead of copy)\n",
    "raveled = reshaped.ravel()\n",
    "print(\"\\n raveled array \", raveled)\n",
    "\n",
    "# Transpose\n",
    "\n",
    "transpose = reshaped.T\n",
    "print(\"\\n Transpose Array \", transpose)\n"
   ]
  },
  {
   "cell_type": "code",
   "execution_count": null,
   "id": "d673cc79",
   "metadata": {},
   "outputs": [],
   "source": []
  }
 ],
 "metadata": {
  "kernelspec": {
   "display_name": ".venv",
   "language": "python",
   "name": "python3"
  },
  "language_info": {
   "codemirror_mode": {
    "name": "ipython",
    "version": 3
   },
   "file_extension": ".py",
   "mimetype": "text/x-python",
   "name": "python",
   "nbconvert_exporter": "python",
   "pygments_lexer": "ipython3",
   "version": "3.13.5"
  }
 },
 "nbformat": 4,
 "nbformat_minor": 5
}

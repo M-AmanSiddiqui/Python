{
 "cells": [
  {
   "cell_type": "markdown",
   "id": "f2fb3434",
   "metadata": {},
   "source": [
    "Advance Operation with Business Example\n"
   ]
  },
  {
   "cell_type": "code",
   "execution_count": 2,
   "id": "c4209662",
   "metadata": {},
   "outputs": [],
   "source": [
    "import numpy as np\n",
    "import matplotlib.pyplot as plt"
   ]
  },
  {
   "cell_type": "code",
   "execution_count": 14,
   "id": "69c1247b",
   "metadata": {},
   "outputs": [
    {
     "name": "stdout",
     "output_type": "stream",
     "text": [
      "[[     1 150000 180000 220000 250000]\n",
      " [     2 120000 140000 160000 190000]\n",
      " [     3 200000 230000 260000 300000]\n",
      " [     4 180000 210000 240000 270000]\n",
      " [     5 160000 185000 205000 230000]]\n",
      "\n",
      " Sales Data Shape (5, 5)\n",
      "\n",
      " Sales Data for last 3 restraunt [[150000 180000 220000 250000]\n",
      " [120000 140000 160000 190000]\n",
      " [200000 230000 260000 300000]\n",
      " [180000 210000 240000 270000]\n",
      " [160000 185000 205000 230000]]\n"
     ]
    }
   ],
   "source": [
    "import numpy as np\n",
    "\n",
    "# Data structure: [restaurant_id, 2021, 2022, 2023, 2024]\n",
    "sales_data = np.array([\n",
    "    [1, 150000, 180000, 220000, 250000],  # Paradise Biryani\n",
    "    [2, 120000, 140000, 160000, 190000],  # Beijing Bites\n",
    "    [3, 200000, 230000, 260000, 300000],  # Pizza Hub\n",
    "    [4, 180000, 210000, 240000, 270000],  # Burger Point\n",
    "    [5, 160000, 185000, 205000, 230000]   # Chai Point\n",
    "])\n",
    "\n",
    "print(sales_data)\n",
    "print(\"\\n Sales Data Shape\", sales_data.shape)\n",
    "print(\"\\n Sales Data for last 3 restraunt\", sales_data[:, 1:])\n"
   ]
  },
  {
   "cell_type": "code",
   "execution_count": 19,
   "id": "7d038735",
   "metadata": {},
   "outputs": [
    {
     "name": "stdout",
     "output_type": "stream",
     "text": [
      "[     15  810000  945000 1085000 1240000]\n",
      "[ 810000  945000 1085000 1240000]\n",
      "Min [150000 120000 200000 180000 160000]\n"
     ]
    }
   ],
   "source": [
    "\n",
    "print(np.sum(sales_data, axis=0))\n",
    "yearly_total = np.sum(sales_data[: ,1:], axis=0)\n",
    "print(yearly_total)\n",
    "\n",
    "\n",
    "## Minimum Sales\n",
    "min_sales = np.min(sales_data[: , 1:],axis=1)\n",
    "print(\"Min\",min_sales)\n",
    "\n"
   ]
  },
  {
   "cell_type": "markdown",
   "id": "cb9aba18",
   "metadata": {},
   "source": [
    "# Maximum Sales Per Year"
   ]
  },
  {
   "cell_type": "code",
   "execution_count": 21,
   "id": "95adb2ae",
   "metadata": {},
   "outputs": [
    {
     "name": "stdout",
     "output_type": "stream",
     "text": [
      "Max [200000 230000 260000 300000]\n"
     ]
    }
   ],
   "source": [
    "max_Sales = np.max(sales_data[:,1:],axis=0)\n",
    "print(\"Max\",max_Sales)"
   ]
  },
  {
   "cell_type": "code",
   "execution_count": 22,
   "id": "3403b172",
   "metadata": {},
   "outputs": [
    {
     "name": "stdout",
     "output_type": "stream",
     "text": [
      "Avg [200000. 152500. 247500. 225000. 195000.]\n"
     ]
    }
   ],
   "source": [
    "# Average Sales per Restaurent\n",
    "avg_sales = np.mean(sales_data[:,1:],axis=1)\n",
    "print(\"Avg\",avg_sales)"
   ]
  },
  {
   "cell_type": "code",
   "execution_count": null,
   "id": "6348f156",
   "metadata": {},
   "outputs": [],
   "source": []
  }
 ],
 "metadata": {
  "kernelspec": {
   "display_name": ".venv",
   "language": "python",
   "name": "python3"
  },
  "language_info": {
   "codemirror_mode": {
    "name": "ipython",
    "version": 3
   },
   "file_extension": ".py",
   "mimetype": "text/x-python",
   "name": "python",
   "nbconvert_exporter": "python",
   "pygments_lexer": "ipython3",
   "version": "3.13.5"
  }
 },
 "nbformat": 4,
 "nbformat_minor": 5
}
